{
 "cells": [
  {
   "cell_type": "markdown",
   "metadata": {},
   "source": [
    "### Insert your project access token here"
   ]
  },
  {
   "cell_type": "code",
   "execution_count": null,
   "metadata": {},
   "outputs": [],
   "source": [
    "# @hidden_cell\n",
    "# The project token is an authorization token that is used to access project resources like data sources, connections, and used by platform APIs.\n",
    "from project_lib import Project\n",
    "project = Project(project_id={project-id}, project_access_token={access-token})\n",
    "pc = project.project_context"
   ]
  },
  {
   "cell_type": "markdown",
   "metadata": {},
   "source": [
    "# Watson Assistant Delete Logs\n",
    "\n",
    "This notebook performs log deletion on the user log records of Watson Assistant.\n",
    "\n",
    "### Table of Contents\n",
    "* [1.0 Configuration and Log Collection](#config)\n",
    "    * [1.4 Delete Logs](#delete-logs) <---- Click here to jump to delete logs"
   ]
  },
  {
   "cell_type": "markdown",
   "metadata": {},
   "source": [
    "## Housekeeping <a class=\"anchor\" id=\"housekeeping\"></a>\n",
    "This section will import libraries and dependencies for this notebook. \n",
    "\n",
    "**Action Required:** \n",
    "- Update the `project_id` and `project_access_token` in order to access your data assets.\n",
    "- Upload `getAllLogs.py` and `extractConversations.py` into your project's assets. They can be found at https://github.com/cognitive-catalyst/WA-Testing-Tool/tree/master/log_analytics"
   ]
  },
  {
   "cell_type": "code",
   "execution_count": null,
   "metadata": {},
   "outputs": [],
   "source": [
    "# Import dependencies. Ensure these are loaded into your Studio assets.\n",
    "fobj = open(\"getAllLogs.py\", \"wb\")\n",
    "fobj.write(project.get_file(\"getAllLogs.py\").read()) \n",
    "fobj.close()\n",
    "\n",
    "fobj = open(\"extractConversations.py\", \"wb\")\n",
    "fobj.write(project.get_file(\"extractConversations.py\").read()) \n",
    "fobj.close()"
   ]
  },
  {
   "cell_type": "code",
   "execution_count": null,
   "metadata": {},
   "outputs": [],
   "source": [
    "%load_ext autoreload\n",
    "%autoreload 2\n",
    "\n",
    "import warnings\n",
    "warnings.simplefilter(\"ignore\")\n",
    "\n",
    "!pip install ibm-watson\n",
    "\n",
    "import json\n",
    "import pandas as pd\n",
    "import getAllLogs\n",
    "import extractConversations\n",
    "from ibm_watson import AssistantV1\n",
    "from ibm_cloud_sdk_core.authenticators import IAMAuthenticator"
   ]
  },
  {
   "cell_type": "markdown",
   "metadata": {},
   "source": [
    "## 1.0 Configuration and log collection <a class=\"anchor\" id=\"config\"></a>\n",
    "The next few cells require some configuration.  Review the variables and update them for your specific assistant.  The comments in the cells guide you in the configuration."
   ]
  },
  {
   "cell_type": "markdown",
   "metadata": {},
   "source": [
    "### 1.1 Retrieve logs from the Watson Assistant instance\n",
    "This option will allow you to retrieve the logs from the Assistant API.\n",
    "\n",
    "**Action Required:**\n",
    "- Update `wa-apikey` to your Watson Assistant API key\n",
    "- Update `wa-url` to your Watson Assistant URL\n",
    "- Update `workspace_id` or `assistant_id` to reflect the settings in your bot\n",
    "- Update `log_filter` for any other filters, e.g. update `response_timestamp` if you wish to limit the amount of data retrieved."
   ]
  },
  {
   "cell_type": "code",
   "execution_count": null,
   "metadata": {},
   "outputs": [],
   "source": [
    "# API, URL,and workspace ID are extractable from \"View API Details page\"\n",
    "iam_apikey='wa-apikey' # Update this\n",
    "\n",
    "#url pattern depends on region and when it was created (update one to match your instance)\n",
    "#url=\"https://api.us-east.assistant.watson.cloud.ibm.com\"\n",
    "url='wa-url'\n",
    "\n",
    "workspace_id=None # Update or set to None without quotes\n",
    "\n",
    "# Filter API is described at: https://cloud.ibm.com/docs/assistant?topic=assistant-filter-reference#filter-reference\n",
    "log_filter=\"language::en,response_timestamp>=2020-06-01\" \\\n",
    "+\",request.context.system.assistant_id::<<assistant_id>>\" # If using this, uncomment and replace <<assistant_id>>\n",
    "\n",
    "#Change the number of logs retrieved, default settings will return 100,000 logs (200 pages of 500)\n",
    "page_size_limit=500\n",
    "page_num_limit=200\n",
    "\n",
    "#WA API version\n",
    "version=\"2018-09-20\" \n",
    "\n",
    "rawLogsJson = getAllLogs.getLogs(iam_apikey, url, workspace_id, log_filter, page_size_limit, page_num_limit, version)\n",
    "rawLogsPath= custName + \"_logs.json\"\n",
    "\n",
    "print('\\nSaved log data to {}'.format(rawLogsPath))"
   ]
  },
  {
   "cell_type": "markdown",
   "metadata": {},
   "source": [
    "### 1.3 Format logs\n",
    "Update these fields by following the instructions in the comments."
   ]
  },
  {
   "cell_type": "code",
   "execution_count": null,
   "metadata": {},
   "outputs": [],
   "source": [
    "# Define the conversation corrrelation field name for your Watson Assistant records.\n",
    "# Provide the field name as it appears in the log payload (default is 'response.context.conversation_id')\n",
    "primaryLogKey = \"response.context.conversation_id\"\n",
    "conversationKey='conversation_id'\n",
    "customFieldNames = \"response.context.language,response.context.metadata.user_id\"\n",
    "\n",
    "allLogsDF = extractConversations.extractConversationData(rawLogsJson, primaryLogKey, customFieldNames)\n",
    "conversationsGroup = allLogsDF.groupby(conversationKey,as_index=False)\n",
    "\n",
    "print(\"Total log events:\",len(allLogsDF))\n",
    "allLogsDF.head()\n",
    "# allLogsDF.iloc[0][\"metadata.user_id\"]"
   ]
  },
  {
   "cell_type": "markdown",
   "metadata": {},
   "source": [
    "### 1.4 Delete logs from the Watson Assistant instance <a class=\"anchor\" id=\"delete-logs\"></a>"
   ]
  },
  {
   "cell_type": "markdown",
   "metadata": {},
   "source": [
    "#### Directions: You *must* run all of the above cells before runnin the delete logs cells. To do so, click inside the top cell in this notebook then click \"Shift+Enter\" to run that cell. You can hold down \"Shift\" while tapping \"Enter\" to run multiple cells."
   ]
  },
  {
   "cell_type": "code",
   "execution_count": null,
   "metadata": {},
   "outputs": [],
   "source": [
    "authenticator = IAMAuthenticator(iam_apikey)\n",
    "\n",
    "assistant = AssistantV1(\n",
    "    version='2020-04-01',\n",
    "    authenticator = authenticator\n",
    ")\n",
    "\n",
    "assistant.set_service_url(url)"
   ]
  },
  {
   "cell_type": "code",
   "execution_count": null,
   "metadata": {},
   "outputs": [],
   "source": [
    "# Replace \"1999\" with the string that you would like to remove.\n",
    "# This will remove all conversations associated with the user who entered that exact phrase.\n",
    "removeDF = allLogsDF[allLogsDF['input.text'].str.contains(\"1999\")]\n",
    "logsToDelete = removeDF[\"metadata.user_id\"]\n",
    "\n",
    "if len(logsToDelete) == 0:\n",
    "    print(\"No matches found\")\n",
    "else:\n",
    "    print(\"Matches found: \")\n",
    "    print(removeDF[[\"input.text\", \"metadata.user_id\"]])\n",
    "    print()"
   ]
  },
  {
   "cell_type": "code",
   "execution_count": null,
   "metadata": {},
   "outputs": [],
   "source": [
    "# Only run this if you are comfortable deleting the conversations output from the above cell\n",
    "# A response of {} indicates that the log has been queued for deletion\n",
    "# Please note that deletion make take up to 24 hours to process\n",
    "\n",
    "for index, value in logsToDelete.items():\n",
    "        print(f\"Deleting conversation: {value}\")\n",
    "        response = assistant.delete_user_data(\n",
    "            customer_id = value\n",
    "        ).get_result()\n",
    "\n",
    "        print(json.dumps(response, indent=2))"
   ]
  }
 ],
 "metadata": {
  "kernelspec": {
   "display_name": "Python 3",
   "language": "python",
   "name": "python3"
  },
  "language_info": {
   "codemirror_mode": {
    "name": "ipython",
    "version": 3
   },
   "file_extension": ".py",
   "mimetype": "text/x-python",
   "name": "python",
   "nbconvert_exporter": "python",
   "pygments_lexer": "ipython3",
   "version": "3.7.3"
  }
 },
 "nbformat": 4,
 "nbformat_minor": 2
}
